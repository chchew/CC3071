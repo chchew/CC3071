{
  "nbformat": 4,
  "nbformat_minor": 0,
  "metadata": {
    "colab": {
      "provenance": []
    },
    "kernelspec": {
      "name": "python3",
      "display_name": "Python 3"
    },
    "language_info": {
      "name": "python"
    }
  },
  "cells": [
    {
      "cell_type": "markdown",
      "source": [
        "[M2] Actividad Práctica: Implementación de un Búfer de Entrada"
      ],
      "metadata": {
        "id": "mVHxqqL9I465"
      }
    },
    {
      "cell_type": "code",
      "source": [
        "def cargar_buffer(entrada, inicio, tamano_buffer):\n",
        "    \"\"\"Carga una porción de la entrada en el búfer.\"\"\"\n",
        "    buffer = entrada[inicio:inicio + tamano_buffer]\n",
        "    if len(buffer) < tamano_buffer:\n",
        "        buffer.append(\"eof\")\n",
        "    return buffer\n",
        "\n",
        "def procesar_buffer(buffer):\n",
        "    \"\"\"Procesa el búfer extrayendo y mostrando lexemas.\"\"\"\n",
        "    lexema = []\n",
        "    for caracter in buffer:\n",
        "        if caracter == \" \" or caracter == \"eof\":\n",
        "            if lexema:\n",
        "                print(\"Lexema procesado:\", \"\".join(lexema))\n",
        "                lexema = []\n",
        "        else:\n",
        "            lexema.append(caracter)\n",
        "\n",
        "def simulador_buffer(entrada, tamano_buffer):\n",
        "    \"\"\"Simula el procesamiento de la entrada usando un búfer.\"\"\"\n",
        "    inicio = 0\n",
        "    while True:\n",
        "        buffer = cargar_buffer(entrada, inicio, tamano_buffer)\n",
        "        if \"eof\" in buffer:\n",
        "            procesar_buffer(buffer)\n",
        "            break\n",
        "        procesar_buffer(buffer)\n",
        "        inicio += tamano_buffer  # Avanza al siguiente bloque de datos\n",
        "\n",
        "# Ejemplo de entrada\n",
        "entrada = list(\"Esto es un ejemplo eof\")\n",
        "tamano_buffer = 10\n",
        "\n",
        "# Ejecutar el simulador\n",
        "simulador_buffer(entrada, tamano_buffer)\n"
      ],
      "metadata": {
        "colab": {
          "base_uri": "https://localhost:8080/"
        },
        "id": "5ISprwN-Lqf4",
        "outputId": "ffd61c17-d180-4e02-869b-666ffc8bf0db"
      },
      "execution_count": 1,
      "outputs": [
        {
          "output_type": "stream",
          "name": "stdout",
          "text": [
            "Lexema procesado: Esto\n",
            "Lexema procesado: es\n",
            "Lexema procesado: ejemplo\n",
            "Lexema procesado: of\n"
          ]
        }
      ]
    }
  ]
}